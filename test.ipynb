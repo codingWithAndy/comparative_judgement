{
 "cells": [
  {
   "cell_type": "code",
   "execution_count": null,
   "metadata": {},
   "outputs": [],
   "source": [
    "from cj.models import BayesianCJ, BTMCJ, BayesianCJMC\n",
    "import cj"
   ]
  },
  {
   "cell_type": "code",
   "execution_count": null,
   "metadata": {},
   "outputs": [],
   "source": [
    "BCJ = BayesianCJ()\n",
    "BTM = BTMCJ()\n",
    "BCJMC = BayesianCJMC()"
   ]
  },
  {
   "cell_type": "code",
   "execution_count": null,
   "metadata": {},
   "outputs": [],
   "source": [
    "BCJ.check()"
   ]
  },
  {
   "cell_type": "code",
   "execution_count": null,
   "metadata": {},
   "outputs": [],
   "source": [
    "BTM.check()"
   ]
  },
  {
   "cell_type": "code",
   "execution_count": null,
   "metadata": {},
   "outputs": [],
   "source": [
    "BTM = BTMCJ(5)"
   ]
  },
  {
   "cell_type": "code",
   "execution_count": null,
   "metadata": {},
   "outputs": [],
   "source": [
    "import pandas as pd\n",
    "\n",
    "# Read the CSV file into a DataFrame\n",
    "df = pd.read_csv(\"ent n_items=5 res 0 k=5 new.csv\")\n",
    "\n",
    "# Extract the values from the DataFrame\n",
    "values = df.values\n",
    "\n",
    "# Get the shape of the DataFrame\n",
    "df_shape = df.shape\n",
    "\n",
    "values, df_shape"
   ]
  },
  {
   "cell_type": "code",
   "execution_count": null,
   "metadata": {},
   "outputs": [],
   "source": [
    "BTM.run(values)"
   ]
  },
  {
   "cell_type": "code",
   "execution_count": null,
   "metadata": {},
   "outputs": [],
   "source": [
    "# Optimised version: \n",
    "BTM.get_ranking()"
   ]
  },
  {
   "cell_type": "code",
   "execution_count": null,
   "metadata": {},
   "outputs": [],
   "source": [
    "BTM.get_ranking()"
   ]
  },
  {
   "cell_type": "code",
   "execution_count": null,
   "metadata": {},
   "outputs": [],
   "source": [
    "import numpy as np\n",
    "\n",
    "class BradleyTerryModel:\n",
    "    def __init__(self):\n",
    "        self.weights = None\n",
    "    \n",
    "    def fit(self, X, y, max_iter=100, tol=1e-4):\n",
    "        n_samples, n_features = X.shape\n",
    "        self.weights = np.ones(n_features)\n",
    "        \n",
    "        for _ in range(max_iter):\n",
    "            prev_weights = np.copy(self.weights)\n",
    "            \n",
    "            for i in range(n_features):\n",
    "                wins = 0\n",
    "                losses = 0\n",
    "                \n",
    "                for j in range(n_samples):\n",
    "                    if X[j, i] == 1:\n",
    "                        wins += 1\n",
    "                    elif X[j, i] == -1:\n",
    "                        losses += 1\n",
    "                \n",
    "                self.weights[i] = np.log(wins / losses)\n",
    "            \n",
    "            if np.linalg.norm(self.weights - prev_weights) < tol:\n",
    "                break\n",
    "    \n",
    "    def predict(self, X):\n",
    "        probabilities = np.exp(X @ self.weights)\n",
    "        return probabilities / np.sum(probabilities)"
   ]
  },
  {
   "cell_type": "code",
   "execution_count": null,
   "metadata": {},
   "outputs": [],
   "source": [
    "# Import the necessary modules\n",
    "import numpy as np\n",
    "\n",
    "class BradleyTerryModel:\n",
    "    def __init__(self):\n",
    "        self.weights = None\n",
    "    \n",
    "    def fit(self, X, y, max_iter=100, tol=1e-4):\n",
    "        n_samples, n_features = X.shape\n",
    "        self.weights = np.ones(n_features)\n",
    "        \n",
    "        for _ in range(max_iter):\n",
    "            prev_weights = np.copy(self.weights)\n",
    "            \n",
    "            for i in range(n_features):\n",
    "                wins = 0\n",
    "                losses = 0\n",
    "                \n",
    "                for j in range(n_samples):\n",
    "                    if X[j, i] == 1:\n",
    "                        wins += 1\n",
    "                    elif X[j, i] == -1:\n",
    "                        losses += 1\n",
    "                \n",
    "                self.weights[i] = np.log(wins / losses)\n",
    "            \n",
    "            if np.linalg.norm(self.weights - prev_weights) < tol:\n",
    "                break\n",
    "    \n",
    "    def predict(self, X):\n",
    "        probabilities = np.exp(X @ self.weights)\n",
    "        return probabilities / np.sum(probabilities)\n",
    "\n",
    "# Example usage\n",
    "X = np.array([[1, 0, 1], [0, 1, 0], [1, 1, 0], [0, 1, 1]])\n",
    "y = np.array([1, -1, 1, -1])\n",
    "\n",
    "model = BradleyTerryModel()\n",
    "model.fit(X, y)\n",
    "\n",
    "test_data = np.array([[1, 0, 0], [0, 1, 1]])\n",
    "predictions = model.predict(test_data)\n",
    "\n",
    "print(predictions)\n",
    "# from cj.models import BTMCJ\n",
    "\n",
    "# Create an instance of the BTMCJ class\n",
    "# btm = BTMCJ()\n",
    "\n",
    "# # Use the methods and attributes of the BTMCJ instance\n",
    "# btm.check()\n",
    "# btm.run(values)\n",
    "# ranking = btm.get_ranking()"
   ]
  },
  {
   "cell_type": "code",
   "execution_count": null,
   "metadata": {},
   "outputs": [],
   "source": [
    "data = [\n",
    "    [0, 1, 0],\n",
    "    [0, 1, 0],\n",
    "    [0, 1, 1],\n",
    "    [0, 1, 1],\n",
    "    [0, 1, 1],\n",
    "    [0, 3, 0],\n",
    "    [0, 3, 3],\n",
    "    [0, 3, 3],\n",
    "    [0, 3, 3],\n",
    "    [0, 3, 3],\n",
    "    [1, 2, 1],\n",
    "    [1, 2, 1],\n",
    "    [1, 2, 1],\n",
    "    [1, 2, 1],\n",
    "    [1, 2, 1],\n",
    "    [2, 1, 2],\n",
    "    [2, 1, 2],\n",
    "    [2, 1, 2],\n",
    "    [2, 3, 2],\n",
    "    [3, 2, 3],\n",
    "    [3, 2, 3],\n",
    "    [3, 2, 3],\n",
    "]"
   ]
  },
  {
   "cell_type": "code",
   "execution_count": null,
   "metadata": {},
   "outputs": [],
   "source": [
    "from cj.models import BTMCJ\n",
    "import numpy as np"
   ]
  },
  {
   "cell_type": "code",
   "execution_count": null,
   "metadata": {},
   "outputs": [],
   "source": [
    "data = np.asarray([\n",
    "    [0, 1, 0],\n",
    "    [0, 1, 0],\n",
    "    [0, 3, 0],\n",
    "    [1, 0, 1],\n",
    "    [1, 0, 1],\n",
    "    [1, 0, 1],\n",
    "    [1, 2, 1],\n",
    "    [1, 2, 1],\n",
    "    [1, 2, 1],\n",
    "    [1, 2, 1],\n",
    "    [1, 2, 1],\n",
    "    [2, 1, 2],\n",
    "    [2, 1, 2],\n",
    "    [2, 1, 2],\n",
    "    [2, 3, 2],\n",
    "    [3, 0, 3],\n",
    "    [3, 0, 3],\n",
    "    [3, 0, 3],\n",
    "    [3, 0, 3],\n",
    "    [3, 2, 3],\n",
    "    [3, 2, 3],\n",
    "    [3, 2, 3],\n",
    "])"
   ]
  },
  {
   "cell_type": "code",
   "execution_count": null,
   "metadata": {},
   "outputs": [],
   "source": [
    "BTM_check = BTMCJ(4)"
   ]
  },
  {
   "cell_type": "code",
   "execution_count": null,
   "metadata": {},
   "outputs": [],
   "source": [
    "BTM_check.run(data)"
   ]
  },
  {
   "cell_type": "code",
   "execution_count": null,
   "metadata": {},
   "outputs": [],
   "source": [
    "data.shape"
   ]
  },
  {
   "cell_type": "code",
   "execution_count": null,
   "metadata": {},
   "outputs": [],
   "source": [
    "BTM_check.final_rank"
   ]
  },
  {
   "cell_type": "code",
   "execution_count": null,
   "metadata": {},
   "outputs": [],
   "source": [
    "BTM_check.get_ranking()"
   ]
  },
  {
   "cell_type": "code",
   "execution_count": null,
   "metadata": {},
   "outputs": [],
   "source": [
    "BTM_check.run(data)"
   ]
  },
  {
   "cell_type": "code",
   "execution_count": null,
   "metadata": {},
   "outputs": [],
   "source": [
    "BTM_check.get_ranking()"
   ]
  },
  {
   "cell_type": "code",
   "execution_count": null,
   "metadata": {},
   "outputs": [],
   "source": [
    "BTM_check.p"
   ]
  },
  {
   "cell_type": "code",
   "execution_count": null,
   "metadata": {},
   "outputs": [],
   "source": [
    "BTM_check.p_prime"
   ]
  },
  {
   "cell_type": "code",
   "execution_count": null,
   "metadata": {},
   "outputs": [],
   "source": [
    "import numpy as np\n",
    "\n",
    "# Number of entities (assuming they are labeled 0, 1, 2, 3)\n",
    "num_entities = 4\n",
    "\n",
    "# Initialize latent strengths (randomly or with some initial guess)\n",
    "theta = np.zeros(num_entities)\n",
    "\n",
    "# Maximum likelihood estimation\n",
    "def log_likelihood(theta):\n",
    "    log_like = 0\n",
    "    for row in data:\n",
    "        i, j, outcome = row\n",
    "        p_ij = np.exp(theta[i]) / (np.exp(theta[i]) + np.exp(theta[j]))\n",
    "        log_like += outcome * np.log(p_ij) + (1 - outcome) * np.log(1 - p_ij)\n",
    "    return log_like\n",
    "\n",
    "# Optimize using gradient descent (you can use other optimizers)\n",
    "learning_rate = 0.01\n",
    "for _ in range(10):  # Adjust the number of iterations\n",
    "    gradient = np.zeros(num_entities)\n",
    "    for row in data:\n",
    "        i, j, outcome = row\n",
    "        p_ij = np.exp(theta[i]) / (np.exp(theta[i]) + np.exp(theta[j]))\n",
    "        gradient[i] += outcome - p_ij\n",
    "        gradient[j] += (1 - outcome) - (1 - p_ij)\n",
    "    theta += learning_rate * gradient\n",
    "\n",
    "# Rank entities based on estimated strengths\n",
    "ranked_entities = np.argsort(-theta)  # Descending order\n",
    "\n",
    "print(\"Estimated strengths (theta):\", theta)\n",
    "print(\"Ranked entities:\", ranked_entities)\n"
   ]
  },
  {
   "cell_type": "code",
   "execution_count": null,
   "metadata": {},
   "outputs": [],
   "source": [
    "from cj.models import BTMCJ\n",
    "import numpy as np"
   ]
  },
  {
   "cell_type": "code",
   "execution_count": null,
   "metadata": {},
   "outputs": [],
   "source": [
    "import pandas as pd\n",
    "\n",
    "# Read the CSV file into a DataFrame\n",
    "df = pd.read_csv(\"ent n_items=5 res 5 k=30.csv\")\n",
    "\n",
    "# Extract the values from the DataFrame\n",
    "values = df.values\n",
    "\n",
    "# Get the shape of the DataFrame\n",
    "df_shape = df.shape\n",
    "\n",
    "values, df_shape\n",
    "\n",
    "values"
   ]
  },
  {
   "cell_type": "code",
   "execution_count": null,
   "metadata": {},
   "outputs": [],
   "source": [
    "BTM_realdata = BTMCJ(5)\n",
    "# BTM_realdata.run(values) "
   ]
  },
  {
   "cell_type": "code",
   "execution_count": null,
   "metadata": {},
   "outputs": [],
   "source": [
    "BTM_realdata.get_ranking()"
   ]
  },
  {
   "cell_type": "code",
   "execution_count": null,
   "metadata": {},
   "outputs": [],
   "source": [
    "BTM_realdata.p"
   ]
  },
  {
   "cell_type": "code",
   "execution_count": null,
   "metadata": {},
   "outputs": [],
   "source": [
    "BTM_realdata.final_rank"
   ]
  },
  {
   "cell_type": "code",
   "execution_count": null,
   "metadata": {},
   "outputs": [],
   "source": [
    "target = [4,5,9,0,3,1,8,7,6,2]"
   ]
  },
  {
   "cell_type": "code",
   "execution_count": null,
   "metadata": {},
   "outputs": [],
   "source": [
    "def normalised_kendall_tau_distance(values1, values2):\n",
    "    \"\"\"\n",
    "        Compute the Kendall tau distance.\n",
    "    \"\"\"\n",
    "    n = len(values1)\n",
    "    assert len(values2) == n, \"Both lists have to be of equal length\"\n",
    "    i, j = np.meshgrid(np.arange(n), np.arange(n))\n",
    "    a = np.argsort(values1)\n",
    "    b = np.argsort(values2)\n",
    "    ndisordered = np.logical_or(np.logical_and(a[i] < a[j], b[i] > b[j]), np.logical_and(a[i] > a[j], b[i] < b[j])).sum()\n",
    "    return ndisordered / (n * (n - 1))"
   ]
  },
  {
   "cell_type": "code",
   "execution_count": null,
   "metadata": {},
   "outputs": [],
   "source": [
    "normalised_kendall_tau_distance(BTM_realdata.final_rank, target)"
   ]
  },
  {
   "cell_type": "code",
   "execution_count": null,
   "metadata": {},
   "outputs": [],
   "source": [
    "import numpy as np\n",
    "\n",
    "class BradleyTerryModel:\n",
    "    def __init__(self):\n",
    "        self.weights = None\n",
    "    \n",
    "    def fit(self, X, y, max_iter=100, tol=1e-4):\n",
    "        n_samples, n_features = X.shape\n",
    "        self.weights = np.ones(n_features)\n",
    "        \n",
    "        for _ in range(max_iter):\n",
    "            prev_weights = np.copy(self.weights)\n",
    "            \n",
    "            for i in range(n_features):\n",
    "                wins = 0\n",
    "                losses = 0\n",
    "                \n",
    "                for j in range(n_samples):\n",
    "                    if X[j, i] == 1:\n",
    "                        wins += 1\n",
    "                    elif X[j, i] == -1:\n",
    "                        losses += 1\n",
    "                \n",
    "                self.weights[i] = np.log(wins / losses)\n",
    "            \n",
    "            if np.linalg.norm(self.weights - prev_weights) < tol:\n",
    "                break\n",
    "    \n",
    "    def predict(self, X):\n",
    "        probabilities = np.exp(X @ self.weights)\n",
    "        return probabilities / np.sum(probabilities)"
   ]
  },
  {
   "cell_type": "code",
   "execution_count": 2,
   "metadata": {},
   "outputs": [],
   "source": [
    "import numpy as np\n",
    "from cj.models import BayesianCJ, BTMCJ"
   ]
  },
  {
   "cell_type": "code",
   "execution_count": 3,
   "metadata": {},
   "outputs": [],
   "source": [
    "BCJ = BayesianCJ(4)\n",
    "BTM = BTMCJ(4)"
   ]
  },
  {
   "cell_type": "code",
   "execution_count": 4,
   "metadata": {},
   "outputs": [],
   "source": [
    "data = np.asarray([\n",
    "    [0, 1, 0],\n",
    "    [0, 1, 0],\n",
    "    [0, 3, 0],\n",
    "    [1, 0, 1],\n",
    "    [1, 0, 1],\n",
    "    [1, 0, 1],\n",
    "    [1, 2, 1],\n",
    "    [1, 2, 1],\n",
    "    [1, 2, 1],\n",
    "    [1, 2, 1],\n",
    "    [1, 2, 1],\n",
    "    [2, 1, 2],\n",
    "    [2, 1, 2],\n",
    "    [2, 1, 2],\n",
    "    [2, 3, 2],\n",
    "    [3, 0, 3],\n",
    "    [3, 0, 3],\n",
    "    [3, 0, 3],\n",
    "    [3, 0, 3],\n",
    "    [3, 2, 3],\n",
    "    [3, 2, 3],\n",
    "    [3, 2, 3],\n",
    "])"
   ]
  },
  {
   "cell_type": "code",
   "execution_count": 5,
   "metadata": {},
   "outputs": [
    {
     "name": "stderr",
     "output_type": "stream",
     "text": [
      "2024-06-06 12:47:44,466\tINFO worker.py:1553 -- Started a local Ray instance.\n"
     ]
    }
   ],
   "source": [
    "BCJ.run(data)\n",
    "BTM.run(data)"
   ]
  },
  {
   "cell_type": "code",
   "execution_count": 5,
   "metadata": {},
   "outputs": [
    {
     "data": {
      "text/plain": [
       "array([3, 1, 0, 2])"
      ]
     },
     "execution_count": 5,
     "metadata": {},
     "output_type": "execute_result"
    }
   ],
   "source": [
    "BCJ.res"
   ]
  },
  {
   "cell_type": "code",
   "execution_count": 7,
   "metadata": {},
   "outputs": [
    {
     "data": {
      "text/plain": [
       "[3.046875, 2.09765625, 3.05859375, 1.796875]"
      ]
     },
     "execution_count": 7,
     "metadata": {},
     "output_type": "execute_result"
    }
   ],
   "source": [
    "BCJ.rank_scores"
   ]
  },
  {
   "cell_type": "code",
   "execution_count": 7,
   "metadata": {},
   "outputs": [
    {
     "data": {
      "text/plain": [
       "{0: [0.018798828125, 0.207763671875, 0.481201171875, 0.292236328125],\n",
       " 1: [0.24481201171875, 0.45635986328125, 0.25518798828125, 0.04364013671875],\n",
       " 2: [0.0238037109375, 0.1968994140625, 0.4761962890625, 0.3031005859375],\n",
       " 3: [0.36181640625, 0.48974609375, 0.13818359375, 0.01025390625]}"
      ]
     },
     "execution_count": 7,
     "metadata": {},
     "output_type": "execute_result"
    }
   ],
   "source": [
    "BCJ.prob_dist"
   ]
  },
  {
   "cell_type": "code",
   "execution_count": 8,
   "metadata": {},
   "outputs": [
    {
     "data": {
      "text/plain": [
       "array([-0.44654627,  0.04240265, -0.41580243,  0.81994508])"
      ]
     },
     "execution_count": 8,
     "metadata": {},
     "output_type": "execute_result"
    }
   ],
   "source": [
    "BTM.optimal_params"
   ]
  },
  {
   "cell_type": "code",
   "execution_count": 9,
   "metadata": {},
   "outputs": [
    {
     "data": {
      "text/plain": [
       "array([3, 1, 2, 0])"
      ]
     },
     "execution_count": 9,
     "metadata": {},
     "output_type": "execute_result"
    }
   ],
   "source": [
    "BTM.rank"
   ]
  },
  {
   "cell_type": "code",
   "execution_count": null,
   "metadata": {},
   "outputs": [],
   "source": []
  },
  {
   "cell_type": "code",
   "execution_count": null,
   "metadata": {},
   "outputs": [
    {
     "data": {
      "text/plain": [
       "[3.046875, 2.09765625, 3.05859375, 1.796875]"
      ]
     },
     "metadata": {},
     "output_type": "display_data"
    }
   ],
   "source": [
    "BCJ.rank_scores"
   ]
  }
 ],
 "metadata": {
  "kernelspec": {
   "display_name": "base",
   "language": "python",
   "name": "python3"
  },
  "language_info": {
   "codemirror_mode": {
    "name": "ipython",
    "version": 3
   },
   "file_extension": ".py",
   "mimetype": "text/x-python",
   "name": "python",
   "nbconvert_exporter": "python",
   "pygments_lexer": "ipython3",
   "version": "3.10.4"
  }
 },
 "nbformat": 4,
 "nbformat_minor": 2
}
