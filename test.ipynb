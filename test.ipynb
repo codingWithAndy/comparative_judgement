{
 "cells": [
  {
   "cell_type": "code",
   "execution_count": null,
   "metadata": {},
   "outputs": [],
   "source": [
    "from cj.models import BayesianCJ, BTMCJ, BayesianCJMC\n",
    "import cj"
   ]
  },
  {
   "cell_type": "code",
   "execution_count": null,
   "metadata": {},
   "outputs": [],
   "source": [
    "BCJ = BayesianCJ()\n",
    "BTM = BTMCJ()\n",
    "BCJMC = BayesianCJMC()"
   ]
  },
  {
   "cell_type": "code",
   "execution_count": null,
   "metadata": {},
   "outputs": [],
   "source": [
    "BCJ.check()"
   ]
  },
  {
   "cell_type": "code",
   "execution_count": null,
   "metadata": {},
   "outputs": [],
   "source": [
    "BTM.check()"
   ]
  },
  {
   "cell_type": "code",
   "execution_count": null,
   "metadata": {},
   "outputs": [],
   "source": [
    "BTM = BTMCJ(5)"
   ]
  },
  {
   "cell_type": "code",
   "execution_count": null,
   "metadata": {},
   "outputs": [],
   "source": [
    "import pandas as pd\n",
    "\n",
    "# Read the CSV file into a DataFrame\n",
    "df = pd.read_csv(\"ent n_items=5 res 0 k=5 new.csv\")\n",
    "\n",
    "# Extract the values from the DataFrame\n",
    "values = df.values\n",
    "\n",
    "# Get the shape of the DataFrame\n",
    "df_shape = df.shape\n",
    "\n",
    "values, df_shape"
   ]
  },
  {
   "cell_type": "code",
   "execution_count": null,
   "metadata": {},
   "outputs": [],
   "source": [
    "BTM.run(values)"
   ]
  },
  {
   "cell_type": "code",
   "execution_count": null,
   "metadata": {},
   "outputs": [],
   "source": [
    "# Optimised version: \n",
    "BTM.get_ranking()"
   ]
  },
  {
   "cell_type": "code",
   "execution_count": null,
   "metadata": {},
   "outputs": [],
   "source": [
    "BTM.get_ranking()"
   ]
  },
  {
   "cell_type": "code",
   "execution_count": null,
   "metadata": {},
   "outputs": [],
   "source": [
    "import numpy as np\n",
    "\n",
    "class BradleyTerryModel:\n",
    "    def __init__(self):\n",
    "        self.weights = None\n",
    "    \n",
    "    def fit(self, X, y, max_iter=100, tol=1e-4):\n",
    "        n_samples, n_features = X.shape\n",
    "        self.weights = np.ones(n_features)\n",
    "        \n",
    "        for _ in range(max_iter):\n",
    "            prev_weights = np.copy(self.weights)\n",
    "            \n",
    "            for i in range(n_features):\n",
    "                wins = 0\n",
    "                losses = 0\n",
    "                \n",
    "                for j in range(n_samples):\n",
    "                    if X[j, i] == 1:\n",
    "                        wins += 1\n",
    "                    elif X[j, i] == -1:\n",
    "                        losses += 1\n",
    "                \n",
    "                self.weights[i] = np.log(wins / losses)\n",
    "            \n",
    "            if np.linalg.norm(self.weights - prev_weights) < tol:\n",
    "                break\n",
    "    \n",
    "    def predict(self, X):\n",
    "        probabilities = np.exp(X @ self.weights)\n",
    "        return probabilities / np.sum(probabilities)"
   ]
  },
  {
   "cell_type": "code",
   "execution_count": null,
   "metadata": {},
   "outputs": [],
   "source": [
    "# Import the necessary modules\n",
    "import numpy as np\n",
    "\n",
    "class BradleyTerryModel:\n",
    "    def __init__(self):\n",
    "        self.weights = None\n",
    "    \n",
    "    def fit(self, X, y, max_iter=100, tol=1e-4):\n",
    "        n_samples, n_features = X.shape\n",
    "        self.weights = np.ones(n_features)\n",
    "        \n",
    "        for _ in range(max_iter):\n",
    "            prev_weights = np.copy(self.weights)\n",
    "            \n",
    "            for i in range(n_features):\n",
    "                wins = 0\n",
    "                losses = 0\n",
    "                \n",
    "                for j in range(n_samples):\n",
    "                    if X[j, i] == 1:\n",
    "                        wins += 1\n",
    "                    elif X[j, i] == -1:\n",
    "                        losses += 1\n",
    "                \n",
    "                self.weights[i] = np.log(wins / losses)\n",
    "            \n",
    "            if np.linalg.norm(self.weights - prev_weights) < tol:\n",
    "                break\n",
    "    \n",
    "    def predict(self, X):\n",
    "        probabilities = np.exp(X @ self.weights)\n",
    "        return probabilities / np.sum(probabilities)\n",
    "\n",
    "# Example usage\n",
    "X = np.array([[1, 0, 1], [0, 1, 0], [1, 1, 0], [0, 1, 1]])\n",
    "y = np.array([1, -1, 1, -1])\n",
    "\n",
    "model = BradleyTerryModel()\n",
    "model.fit(X, y)\n",
    "\n",
    "test_data = np.array([[1, 0, 0], [0, 1, 1]])\n",
    "predictions = model.predict(test_data)\n",
    "\n",
    "print(predictions)\n",
    "# from cj.models import BTMCJ\n",
    "\n",
    "# Create an instance of the BTMCJ class\n",
    "# btm = BTMCJ()\n",
    "\n",
    "# # Use the methods and attributes of the BTMCJ instance\n",
    "# btm.check()\n",
    "# btm.run(values)\n",
    "# ranking = btm.get_ranking()"
   ]
  },
  {
   "cell_type": "code",
   "execution_count": null,
   "metadata": {},
   "outputs": [],
   "source": [
    "data = [\n",
    "    [0, 1, 0],\n",
    "    [0, 1, 0],\n",
    "    [0, 1, 1],\n",
    "    [0, 1, 1],\n",
    "    [0, 1, 1],\n",
    "    [0, 3, 0],\n",
    "    [0, 3, 3],\n",
    "    [0, 3, 3],\n",
    "    [0, 3, 3],\n",
    "    [0, 3, 3],\n",
    "    [1, 2, 1],\n",
    "    [1, 2, 1],\n",
    "    [1, 2, 1],\n",
    "    [1, 2, 1],\n",
    "    [1, 2, 1],\n",
    "    [2, 1, 2],\n",
    "    [2, 1, 2],\n",
    "    [2, 1, 2],\n",
    "    [2, 3, 2],\n",
    "    [3, 2, 3],\n",
    "    [3, 2, 3],\n",
    "    [3, 2, 3],\n",
    "]"
   ]
  },
  {
   "cell_type": "code",
   "execution_count": null,
   "metadata": {},
   "outputs": [],
   "source": [
    "from cj.models import BTMCJ\n",
    "import numpy as np"
   ]
  },
  {
   "cell_type": "code",
   "execution_count": null,
   "metadata": {},
   "outputs": [],
   "source": [
    "data = np.asarray([\n",
    "    [0, 1, 0],\n",
    "    [0, 1, 0],\n",
    "    [0, 3, 0],\n",
    "    [1, 0, 1],\n",
    "    [1, 0, 1],\n",
    "    [1, 0, 1],\n",
    "    [1, 2, 1],\n",
    "    [1, 2, 1],\n",
    "    [1, 2, 1],\n",
    "    [1, 2, 1],\n",
    "    [1, 2, 1],\n",
    "    [2, 1, 2],\n",
    "    [2, 1, 2],\n",
    "    [2, 1, 2],\n",
    "    [2, 3, 2],\n",
    "    [3, 0, 3],\n",
    "    [3, 0, 3],\n",
    "    [3, 0, 3],\n",
    "    [3, 0, 3],\n",
    "    [3, 2, 3],\n",
    "    [3, 2, 3],\n",
    "    [3, 2, 3],\n",
    "])"
   ]
  },
  {
   "cell_type": "code",
   "execution_count": null,
   "metadata": {},
   "outputs": [],
   "source": [
    "BTM_check = BTMCJ(4)"
   ]
  },
  {
   "cell_type": "code",
   "execution_count": null,
   "metadata": {},
   "outputs": [],
   "source": [
    "BTM_check.run(data)"
   ]
  },
  {
   "cell_type": "code",
   "execution_count": null,
   "metadata": {},
   "outputs": [],
   "source": [
    "data.shape"
   ]
  },
  {
   "cell_type": "code",
   "execution_count": null,
   "metadata": {},
   "outputs": [],
   "source": [
    "BTM_check.final_rank"
   ]
  },
  {
   "cell_type": "code",
   "execution_count": null,
   "metadata": {},
   "outputs": [],
   "source": [
    "BTM_check.get_ranking()"
   ]
  },
  {
   "cell_type": "code",
   "execution_count": null,
   "metadata": {},
   "outputs": [],
   "source": [
    "BTM_check.run(data)"
   ]
  },
  {
   "cell_type": "code",
   "execution_count": null,
   "metadata": {},
   "outputs": [],
   "source": [
    "BTM_check.get_ranking()"
   ]
  },
  {
   "cell_type": "code",
   "execution_count": null,
   "metadata": {},
   "outputs": [],
   "source": [
    "BTM_check.p"
   ]
  },
  {
   "cell_type": "code",
   "execution_count": null,
   "metadata": {},
   "outputs": [],
   "source": [
    "BTM_check.p_prime"
   ]
  },
  {
   "cell_type": "code",
   "execution_count": null,
   "metadata": {},
   "outputs": [],
   "source": [
    "import numpy as np\n",
    "\n",
    "# Number of entities (assuming they are labeled 0, 1, 2, 3)\n",
    "num_entities = 4\n",
    "\n",
    "# Initialize latent strengths (randomly or with some initial guess)\n",
    "theta = np.zeros(num_entities)\n",
    "\n",
    "# Maximum likelihood estimation\n",
    "def log_likelihood(theta):\n",
    "    log_like = 0\n",
    "    for row in data:\n",
    "        i, j, outcome = row\n",
    "        p_ij = np.exp(theta[i]) / (np.exp(theta[i]) + np.exp(theta[j]))\n",
    "        log_like += outcome * np.log(p_ij) + (1 - outcome) * np.log(1 - p_ij)\n",
    "    return log_like\n",
    "\n",
    "# Optimize using gradient descent (you can use other optimizers)\n",
    "learning_rate = 0.01\n",
    "for _ in range(10):  # Adjust the number of iterations\n",
    "    gradient = np.zeros(num_entities)\n",
    "    for row in data:\n",
    "        i, j, outcome = row\n",
    "        p_ij = np.exp(theta[i]) / (np.exp(theta[i]) + np.exp(theta[j]))\n",
    "        gradient[i] += outcome - p_ij\n",
    "        gradient[j] += (1 - outcome) - (1 - p_ij)\n",
    "    theta += learning_rate * gradient\n",
    "\n",
    "# Rank entities based on estimated strengths\n",
    "ranked_entities = np.argsort(-theta)  # Descending order\n",
    "\n",
    "print(\"Estimated strengths (theta):\", theta)\n",
    "print(\"Ranked entities:\", ranked_entities)\n"
   ]
  },
  {
   "cell_type": "code",
   "execution_count": null,
   "metadata": {},
   "outputs": [],
   "source": [
    "from cj.models import BTMCJ\n",
    "import numpy as np"
   ]
  },
  {
   "cell_type": "code",
   "execution_count": null,
   "metadata": {},
   "outputs": [],
   "source": [
    "import pandas as pd\n",
    "\n",
    "# Read the CSV file into a DataFrame\n",
    "df = pd.read_csv(\"ent n_items=5 res 5 k=30.csv\")\n",
    "\n",
    "# Extract the values from the DataFrame\n",
    "values = df.values\n",
    "\n",
    "# Get the shape of the DataFrame\n",
    "df_shape = df.shape\n",
    "\n",
    "values, df_shape\n",
    "\n",
    "values"
   ]
  },
  {
   "cell_type": "code",
   "execution_count": null,
   "metadata": {},
   "outputs": [],
   "source": [
    "BTM_realdata = BTMCJ(5)\n",
    "# BTM_realdata.run(values) "
   ]
  },
  {
   "cell_type": "code",
   "execution_count": null,
   "metadata": {},
   "outputs": [],
   "source": [
    "BTM_realdata.get_ranking()"
   ]
  },
  {
   "cell_type": "code",
   "execution_count": null,
   "metadata": {},
   "outputs": [],
   "source": [
    "BTM_realdata.p"
   ]
  },
  {
   "cell_type": "code",
   "execution_count": null,
   "metadata": {},
   "outputs": [],
   "source": [
    "BTM_realdata.final_rank"
   ]
  },
  {
   "cell_type": "code",
   "execution_count": null,
   "metadata": {},
   "outputs": [],
   "source": [
    "target = [4,5,9,0,3,1,8,7,6,2]"
   ]
  },
  {
   "cell_type": "code",
   "execution_count": null,
   "metadata": {},
   "outputs": [],
   "source": [
    "def normalised_kendall_tau_distance(values1, values2):\n",
    "    \"\"\"\n",
    "        Compute the Kendall tau distance.\n",
    "    \"\"\"\n",
    "    n = len(values1)\n",
    "    assert len(values2) == n, \"Both lists have to be of equal length\"\n",
    "    i, j = np.meshgrid(np.arange(n), np.arange(n))\n",
    "    a = np.argsort(values1)\n",
    "    b = np.argsort(values2)\n",
    "    ndisordered = np.logical_or(np.logical_and(a[i] < a[j], b[i] > b[j]), np.logical_and(a[i] > a[j], b[i] < b[j])).sum()\n",
    "    return ndisordered / (n * (n - 1))"
   ]
  },
  {
   "cell_type": "code",
   "execution_count": null,
   "metadata": {},
   "outputs": [],
   "source": [
    "normalised_kendall_tau_distance(BTM_realdata.final_rank, target)"
   ]
  },
  {
   "cell_type": "code",
   "execution_count": null,
   "metadata": {},
   "outputs": [],
   "source": [
    "import numpy as np\n",
    "\n",
    "class BradleyTerryModel:\n",
    "    def __init__(self):\n",
    "        self.weights = None\n",
    "    \n",
    "    def fit(self, X, y, max_iter=100, tol=1e-4):\n",
    "        n_samples, n_features = X.shape\n",
    "        self.weights = np.ones(n_features)\n",
    "        \n",
    "        for _ in range(max_iter):\n",
    "            prev_weights = np.copy(self.weights)\n",
    "            \n",
    "            for i in range(n_features):\n",
    "                wins = 0\n",
    "                losses = 0\n",
    "                \n",
    "                for j in range(n_samples):\n",
    "                    if X[j, i] == 1:\n",
    "                        wins += 1\n",
    "                    elif X[j, i] == -1:\n",
    "                        losses += 1\n",
    "                \n",
    "                self.weights[i] = np.log(wins / losses)\n",
    "            \n",
    "            if np.linalg.norm(self.weights - prev_weights) < tol:\n",
    "                break\n",
    "    \n",
    "    def predict(self, X):\n",
    "        probabilities = np.exp(X @ self.weights)\n",
    "        return probabilities / np.sum(probabilities)"
   ]
  },
  {
   "cell_type": "code",
   "execution_count": 1,
   "metadata": {},
   "outputs": [
    {
     "name": "stdout",
     "output_type": "stream",
     "text": [
      "BTMCJ\n"
     ]
    }
   ],
   "source": [
    "import numpy as np\n",
    "from cj.models import BayesianCJ"
   ]
  },
  {
   "cell_type": "code",
   "execution_count": 2,
   "metadata": {},
   "outputs": [],
   "source": [
    "BCJ = BayesianCJ(4)"
   ]
  },
  {
   "cell_type": "code",
   "execution_count": 3,
   "metadata": {},
   "outputs": [],
   "source": [
    "data = np.asarray([\n",
    "    [0, 1, 0],\n",
    "    [0, 1, 0],\n",
    "    [0, 3, 0],\n",
    "    [1, 0, 1],\n",
    "    [1, 0, 1],\n",
    "    [1, 0, 1],\n",
    "    [1, 2, 1],\n",
    "    [1, 2, 1],\n",
    "    [1, 2, 1],\n",
    "    [1, 2, 1],\n",
    "    [1, 2, 1],\n",
    "    [2, 1, 2],\n",
    "    [2, 1, 2],\n",
    "    [2, 1, 2],\n",
    "    [2, 3, 2],\n",
    "    [3, 0, 3],\n",
    "    [3, 0, 3],\n",
    "    [3, 0, 3],\n",
    "    [3, 0, 3],\n",
    "    [3, 2, 3],\n",
    "    [3, 2, 3],\n",
    "    [3, 2, 3],\n",
    "])"
   ]
  },
  {
   "cell_type": "code",
   "execution_count": 4,
   "metadata": {},
   "outputs": [
    {
     "name": "stdout",
     "output_type": "stream",
     "text": [
      "p matrix: [[-1, 0.34375, 0.5, 0.109375], [0.65625, -1, 0.74609375, 0.5], [0.5, 0.25390625, -1, 0.1875], [0.890625, 0.5, 0.8125, -1]]\n"
     ]
    },
    {
     "name": "stderr",
     "output_type": "stream",
     "text": [
      "2024-06-03 16:50:53,568\tINFO worker.py:1553 -- Started a local Ray instance.\n"
     ]
    },
    {
     "ename": "TypeError",
     "evalue": "missing a required argument: 'prob_dist'",
     "output_type": "error",
     "traceback": [
      "\u001b[0;31m---------------------------------------------------------------------------\u001b[0m",
      "\u001b[0;31mTypeError\u001b[0m                                 Traceback (most recent call last)",
      "Cell \u001b[0;32mIn [4], line 1\u001b[0m\n\u001b[0;32m----> 1\u001b[0m \u001b[43mBCJ\u001b[49m\u001b[38;5;241;43m.\u001b[39;49m\u001b[43mrun\u001b[49m\u001b[43m(\u001b[49m\u001b[43mdata\u001b[49m\u001b[43m)\u001b[49m\n",
      "File \u001b[0;32m~/Developer/comparative_judgement/comparative_judgement/cj/models/BayesianCJ.py:59\u001b[0m, in \u001b[0;36mBayesianCJ.run\u001b[0;34m(self, X)\u001b[0m\n\u001b[1;32m     55\u001b[0m     winner \u001b[38;5;241m=\u001b[39m X[_][\u001b[38;5;241m2\u001b[39m]\n\u001b[1;32m     57\u001b[0m \u001b[38;5;28mprint\u001b[39m(\u001b[38;5;124mf\u001b[39m\u001b[38;5;124m\"\u001b[39m\u001b[38;5;124mp matrix: \u001b[39m\u001b[38;5;132;01m{\u001b[39;00mp_matrix\u001b[38;5;132;01m}\u001b[39;00m\u001b[38;5;124m\"\u001b[39m)\n\u001b[0;32m---> 59\u001b[0m \u001b[38;5;28mself\u001b[39m\u001b[38;5;241m.\u001b[39mprob_dist \u001b[38;5;241m=\u001b[39m \u001b[38;5;28;43mself\u001b[39;49m\u001b[38;5;241;43m.\u001b[39;49m\u001b[43mfind_expected_score\u001b[49m\u001b[38;5;241;43m.\u001b[39;49m\u001b[43mremote\u001b[49m\u001b[43m(\u001b[49m\u001b[43mp_matrix\u001b[49m\u001b[43m,\u001b[49m\u001b[43m \u001b[49m\u001b[38;5;28;43mself\u001b[39;49m\u001b[38;5;241;43m.\u001b[39;49m\u001b[43mprob_dist\u001b[49m\u001b[43m)\u001b[49m \u001b[38;5;66;03m#find_expected_score(p_matrix, prob_dist, (a, b), sample_size, rounds, visualise=visualise_proba)\u001b[39;00m\n\u001b[1;32m     60\u001b[0m \u001b[38;5;28mself\u001b[39m\u001b[38;5;241m.\u001b[39mprob_dist \u001b[38;5;241m=\u001b[39m ray\u001b[38;5;241m.\u001b[39mget(\u001b[38;5;28mself\u001b[39m\u001b[38;5;241m.\u001b[39mprob_dist)\n\u001b[1;32m     61\u001b[0m \u001b[38;5;28mself\u001b[39m\u001b[38;5;241m.\u001b[39mrank_scores \u001b[38;5;241m=\u001b[39m [\u001b[38;5;28mself\u001b[39m\u001b[38;5;241m.\u001b[39mexpected_value(\u001b[38;5;28mrange\u001b[39m(\u001b[38;5;241m1\u001b[39m,\u001b[38;5;28mself\u001b[39m\u001b[38;5;241m.\u001b[39mn_items\u001b[38;5;241m+\u001b[39m\u001b[38;5;241m1\u001b[39m), \u001b[38;5;28mself\u001b[39m\u001b[38;5;241m.\u001b[39mprob_dist[key]) \u001b[38;5;28;01mfor\u001b[39;00m key \u001b[38;5;129;01min\u001b[39;00m \u001b[38;5;28mself\u001b[39m\u001b[38;5;241m.\u001b[39mprob_dist\u001b[38;5;241m.\u001b[39mkeys()] \u001b[38;5;66;03m#prob_dist.keys()\u001b[39;00m\n",
      "File \u001b[0;32m/opt/homebrew/Caskroom/miniforge/base/lib/python3.10/site-packages/ray/remote_function.py:129\u001b[0m, in \u001b[0;36mRemoteFunction.__init__.<locals>._remote_proxy\u001b[0;34m(*args, **kwargs)\u001b[0m\n\u001b[1;32m    127\u001b[0m \u001b[38;5;129m@wraps\u001b[39m(function)\n\u001b[1;32m    128\u001b[0m \u001b[38;5;28;01mdef\u001b[39;00m \u001b[38;5;21m_remote_proxy\u001b[39m(\u001b[38;5;241m*\u001b[39margs, \u001b[38;5;241m*\u001b[39m\u001b[38;5;241m*\u001b[39mkwargs):\n\u001b[0;32m--> 129\u001b[0m     \u001b[38;5;28;01mreturn\u001b[39;00m \u001b[38;5;28;43mself\u001b[39;49m\u001b[38;5;241;43m.\u001b[39;49m\u001b[43m_remote\u001b[49m\u001b[43m(\u001b[49m\u001b[43margs\u001b[49m\u001b[38;5;241;43m=\u001b[39;49m\u001b[43margs\u001b[49m\u001b[43m,\u001b[49m\u001b[43m \u001b[49m\u001b[43mkwargs\u001b[49m\u001b[38;5;241;43m=\u001b[39;49m\u001b[43mkwargs\u001b[49m\u001b[43m,\u001b[49m\u001b[43m \u001b[49m\u001b[38;5;241;43m*\u001b[39;49m\u001b[38;5;241;43m*\u001b[39;49m\u001b[38;5;28;43mself\u001b[39;49m\u001b[38;5;241;43m.\u001b[39;49m\u001b[43m_default_options\u001b[49m\u001b[43m)\u001b[49m\n",
      "File \u001b[0;32m/opt/homebrew/Caskroom/miniforge/base/lib/python3.10/site-packages/ray/util/tracing/tracing_helper.py:307\u001b[0m, in \u001b[0;36m_tracing_task_invocation.<locals>._invocation_remote_span\u001b[0;34m(self, args, kwargs, *_args, **_kwargs)\u001b[0m\n\u001b[1;32m    305\u001b[0m     \u001b[38;5;28;01mif\u001b[39;00m kwargs \u001b[38;5;129;01mis\u001b[39;00m \u001b[38;5;129;01mnot\u001b[39;00m \u001b[38;5;28;01mNone\u001b[39;00m:\n\u001b[1;32m    306\u001b[0m         \u001b[38;5;28;01massert\u001b[39;00m \u001b[38;5;124m\"\u001b[39m\u001b[38;5;124m_ray_trace_ctx\u001b[39m\u001b[38;5;124m\"\u001b[39m \u001b[38;5;129;01mnot\u001b[39;00m \u001b[38;5;129;01min\u001b[39;00m kwargs\n\u001b[0;32m--> 307\u001b[0m     \u001b[38;5;28;01mreturn\u001b[39;00m \u001b[43mmethod\u001b[49m\u001b[43m(\u001b[49m\u001b[38;5;28;43mself\u001b[39;49m\u001b[43m,\u001b[49m\u001b[43m \u001b[49m\u001b[43margs\u001b[49m\u001b[43m,\u001b[49m\u001b[43m \u001b[49m\u001b[43mkwargs\u001b[49m\u001b[43m,\u001b[49m\u001b[43m \u001b[49m\u001b[38;5;241;43m*\u001b[39;49m\u001b[43m_args\u001b[49m\u001b[43m,\u001b[49m\u001b[43m \u001b[49m\u001b[38;5;241;43m*\u001b[39;49m\u001b[38;5;241;43m*\u001b[39;49m\u001b[43m_kwargs\u001b[49m\u001b[43m)\u001b[49m\n\u001b[1;32m    309\u001b[0m \u001b[38;5;28;01massert\u001b[39;00m \u001b[38;5;124m\"\u001b[39m\u001b[38;5;124m_ray_trace_ctx\u001b[39m\u001b[38;5;124m\"\u001b[39m \u001b[38;5;129;01mnot\u001b[39;00m \u001b[38;5;129;01min\u001b[39;00m kwargs\n\u001b[1;32m    311\u001b[0m tracer \u001b[38;5;241m=\u001b[39m _opentelemetry\u001b[38;5;241m.\u001b[39mtrace\u001b[38;5;241m.\u001b[39mget_tracer(\u001b[38;5;18m__name__\u001b[39m)\n",
      "File \u001b[0;32m/opt/homebrew/Caskroom/miniforge/base/lib/python3.10/site-packages/ray/remote_function.py:412\u001b[0m, in \u001b[0;36mRemoteFunction._remote\u001b[0;34m(self, args, kwargs, **task_options)\u001b[0m\n\u001b[1;32m    409\u001b[0m \u001b[38;5;28;01mif\u001b[39;00m \u001b[38;5;28mself\u001b[39m\u001b[38;5;241m.\u001b[39m_decorator \u001b[38;5;129;01mis\u001b[39;00m \u001b[38;5;129;01mnot\u001b[39;00m \u001b[38;5;28;01mNone\u001b[39;00m:\n\u001b[1;32m    410\u001b[0m     invocation \u001b[38;5;241m=\u001b[39m \u001b[38;5;28mself\u001b[39m\u001b[38;5;241m.\u001b[39m_decorator(invocation)\n\u001b[0;32m--> 412\u001b[0m \u001b[38;5;28;01mreturn\u001b[39;00m \u001b[43minvocation\u001b[49m\u001b[43m(\u001b[49m\u001b[43margs\u001b[49m\u001b[43m,\u001b[49m\u001b[43m \u001b[49m\u001b[43mkwargs\u001b[49m\u001b[43m)\u001b[49m\n",
      "File \u001b[0;32m/opt/homebrew/Caskroom/miniforge/base/lib/python3.10/site-packages/ray/remote_function.py:379\u001b[0m, in \u001b[0;36mRemoteFunction._remote.<locals>.invocation\u001b[0;34m(args, kwargs)\u001b[0m\n\u001b[1;32m    377\u001b[0m     list_args \u001b[38;5;241m=\u001b[39m []\n\u001b[1;32m    378\u001b[0m \u001b[38;5;28;01melse\u001b[39;00m:\n\u001b[0;32m--> 379\u001b[0m     list_args \u001b[38;5;241m=\u001b[39m \u001b[43mray\u001b[49m\u001b[38;5;241;43m.\u001b[39;49m\u001b[43m_private\u001b[49m\u001b[38;5;241;43m.\u001b[39;49m\u001b[43msignature\u001b[49m\u001b[38;5;241;43m.\u001b[39;49m\u001b[43mflatten_args\u001b[49m\u001b[43m(\u001b[49m\n\u001b[1;32m    380\u001b[0m \u001b[43m        \u001b[49m\u001b[38;5;28;43mself\u001b[39;49m\u001b[38;5;241;43m.\u001b[39;49m\u001b[43m_function_signature\u001b[49m\u001b[43m,\u001b[49m\u001b[43m \u001b[49m\u001b[43margs\u001b[49m\u001b[43m,\u001b[49m\u001b[43m \u001b[49m\u001b[43mkwargs\u001b[49m\n\u001b[1;32m    381\u001b[0m \u001b[43m    \u001b[49m\u001b[43m)\u001b[49m\n\u001b[1;32m    383\u001b[0m \u001b[38;5;28;01mif\u001b[39;00m worker\u001b[38;5;241m.\u001b[39mmode \u001b[38;5;241m==\u001b[39m ray\u001b[38;5;241m.\u001b[39m_private\u001b[38;5;241m.\u001b[39mworker\u001b[38;5;241m.\u001b[39mLOCAL_MODE:\n\u001b[1;32m    384\u001b[0m     \u001b[38;5;28;01massert\u001b[39;00m (\n\u001b[1;32m    385\u001b[0m         \u001b[38;5;129;01mnot\u001b[39;00m \u001b[38;5;28mself\u001b[39m\u001b[38;5;241m.\u001b[39m_is_cross_language\n\u001b[1;32m    386\u001b[0m     ), \u001b[38;5;124m\"\u001b[39m\u001b[38;5;124mCross language remote function cannot be executed locally.\u001b[39m\u001b[38;5;124m\"\u001b[39m\n",
      "File \u001b[0;32m/opt/homebrew/Caskroom/miniforge/base/lib/python3.10/site-packages/ray/_private/signature.py:114\u001b[0m, in \u001b[0;36mflatten_args\u001b[0;34m(signature_parameters, args, kwargs)\u001b[0m\n\u001b[1;32m    112\u001b[0m     reconstructed_signature\u001b[38;5;241m.\u001b[39mbind(\u001b[38;5;241m*\u001b[39margs, \u001b[38;5;241m*\u001b[39m\u001b[38;5;241m*\u001b[39mkwargs)\n\u001b[1;32m    113\u001b[0m \u001b[38;5;28;01mexcept\u001b[39;00m \u001b[38;5;167;01mTypeError\u001b[39;00m \u001b[38;5;28;01mas\u001b[39;00m exc:  \u001b[38;5;66;03m# capture a friendlier stacktrace\u001b[39;00m\n\u001b[0;32m--> 114\u001b[0m     \u001b[38;5;28;01mraise\u001b[39;00m \u001b[38;5;167;01mTypeError\u001b[39;00m(\u001b[38;5;28mstr\u001b[39m(exc)) \u001b[38;5;28;01mfrom\u001b[39;00m \u001b[38;5;28mNone\u001b[39m\n\u001b[1;32m    115\u001b[0m list_args \u001b[38;5;241m=\u001b[39m []\n\u001b[1;32m    116\u001b[0m \u001b[38;5;28;01mfor\u001b[39;00m arg \u001b[38;5;129;01min\u001b[39;00m args:\n",
      "\u001b[0;31mTypeError\u001b[0m: missing a required argument: 'prob_dist'"
     ]
    }
   ],
   "source": [
    "BCJ.run(data)"
   ]
  },
  {
   "cell_type": "code",
   "execution_count": null,
   "metadata": {},
   "outputs": [],
   "source": []
  }
 ],
 "metadata": {
  "kernelspec": {
   "display_name": "base",
   "language": "python",
   "name": "python3"
  },
  "language_info": {
   "codemirror_mode": {
    "name": "ipython",
    "version": 3
   },
   "file_extension": ".py",
   "mimetype": "text/x-python",
   "name": "python",
   "nbconvert_exporter": "python",
   "pygments_lexer": "ipython3",
   "version": "3.10.4"
  }
 },
 "nbformat": 4,
 "nbformat_minor": 2
}
